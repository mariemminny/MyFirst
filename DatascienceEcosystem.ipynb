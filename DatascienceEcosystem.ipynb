{
 "cells": [
  {
   "cell_type": "markdown",
   "id": "53dfff20-3bde-4a68-a2f8-c895d800d4cc",
   "metadata": {},
   "source": [
    "# Data Science Tools and Ecosystem"
   ]
  },
  {
   "cell_type": "markdown",
   "id": "0eaad13c-f805-453b-a741-4ba813b0b1f7",
   "metadata": {},
   "source": [
    "In this notebook, Data Science Tools and Ecosystem are summarized."
   ]
  },
  {
   "cell_type": "markdown",
   "id": "dfe40322-eecd-493d-9bbf-ed868345275b",
   "metadata": {},
   "source": [
    "**Objectives:**\n",
    "\n",
    "- List popular languages for Data Science\n",
    "\n",
    "- List popular libraries for Data Science\n",
    "\n",
    "- List popular development environment open source tools for Data Science"
   ]
  },
  {
   "cell_type": "markdown",
   "id": "225b7d30-c578-4159-ac87-a5328f6c7a23",
   "metadata": {},
   "source": [
    "Some of the popular languages that Data Scientists use are:\n",
    "1.Python\n",
    "\n",
    "2.R\n",
    "\n",
    "3.SQL\n",
    "\n",
    "4.Scala\n",
    "\n",
    "5.java\n",
    "\n",
    "6.Julia"
   ]
  },
  {
   "cell_type": "markdown",
   "id": "6ef93bad-4cd1-4c4c-a113-0bc4e0f3f422",
   "metadata": {},
   "source": [
    "Some of the commonly used libraries used by Data Scientists include:\n",
    "\n",
    "1.Pandas\n",
    "\n",
    "2.Numpy\n",
    "\n",
    "3.Matplotlib"
   ]
  },
  {
   "cell_type": "markdown",
   "id": "817afef9-b23d-4102-beaf-941dd177207e",
   "metadata": {},
   "source": [
    "|Data Science Tools|\n",
    "|------------------|\n",
    "|Jupiter Notebook|\n",
    "|R Studio|\n",
    "|Anaconda|"
   ]
  },
  {
   "cell_type": "markdown",
   "id": "6d3c3840-bed7-4935-abae-114cc39f576a",
   "metadata": {},
   "source": [
    "### Below are a few examples of evaluating arithmetic expressions in Python"
   ]
  },
  {
   "cell_type": "code",
   "execution_count": 14,
   "id": "0a59a627-9318-4887-ac14-8f7a84c47a27",
   "metadata": {},
   "outputs": [
    {
     "name": "stdout",
     "output_type": "stream",
     "text": [
      "17\n"
     ]
    }
   ],
   "source": [
    "#This a simple arithmetic expression to mutiply then add integer\n",
    "x = 3\n",
    "y = 4\n",
    "z = x*y\n",
    "w = z+5\n",
    "print(w)"
   ]
  },
  {
   "cell_type": "code",
   "execution_count": 16,
   "id": "b9c0ab35-ff68-4ec3-a260-939dc3411e5f",
   "metadata": {},
   "outputs": [
    {
     "name": "stdout",
     "output_type": "stream",
     "text": [
      "3.3333333333333335\n"
     ]
    }
   ],
   "source": [
    "#This will convert 200 minutes to hours by dividing by 60\n",
    "minutes = 200\n",
    "hours = minutes/60\n",
    "print(hours)"
   ]
  },
  {
   "cell_type": "markdown",
   "id": "9af577b2-1722-48e9-987e-f6e74466cc56",
   "metadata": {},
   "source": [
    "## Author\n",
    "\n",
    "Mariem Minny"
   ]
  },
  {
   "cell_type": "code",
   "execution_count": null,
   "id": "ba652805-8693-437a-8a16-c8827f5943ca",
   "metadata": {},
   "outputs": [],
   "source": []
  }
 ],
 "metadata": {
  "kernelspec": {
   "display_name": "Python 3 (ipykernel)",
   "language": "python",
   "name": "python3"
  },
  "language_info": {
   "codemirror_mode": {
    "name": "ipython",
    "version": 3
   },
   "file_extension": ".py",
   "mimetype": "text/x-python",
   "name": "python",
   "nbconvert_exporter": "python",
   "pygments_lexer": "ipython3",
   "version": "3.9.20"
  }
 },
 "nbformat": 4,
 "nbformat_minor": 5
}
